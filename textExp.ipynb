{
 "cells": [
  {
   "cell_type": "code",
   "execution_count": 194,
   "metadata": {},
   "outputs": [],
   "source": [
    "%matplotlib inline"
   ]
  },
  {
   "cell_type": "code",
   "execution_count": 195,
   "metadata": {},
   "outputs": [
    {
     "name": "stdout",
     "output_type": "stream",
     "text": [
      "[]\n",
      "Slusarski\n"
     ]
    }
   ],
   "source": [
    "from __future__ import unicode_literals, print_function, division\n",
    "from io import open\n",
    "import glob\n",
    "import os\n",
    "\n",
    "def findFiles(path): return glob.glob(path)\n",
    "\n",
    "print(findFiles('data/names/*.txt'))\n",
    "\n",
    "import unicodedata\n",
    "import string\n",
    "\n",
    "all_letters = string.ascii_letters + \" .,;'\"\n",
    "n_letters = len(all_letters)\n",
    "\n",
    "# Turn a Unicode string to plain ASCII, thanks to http://stackoverflow.com/a/518232/2809427\n",
    "def unicodeToAscii(s):\n",
    "    return ''.join(\n",
    "        c for c in unicodedata.normalize('NFD', s)\n",
    "        if unicodedata.category(c) != 'Mn'\n",
    "        and c in all_letters\n",
    "    )\n",
    "\n",
    "print(unicodeToAscii('Ślusàrski'))\n",
    "\n",
    "# Build the category_lines dictionary, a list of names per language\n",
    "category_lines = {}\n",
    "all_categories = []\n",
    "\n",
    "# Read a file and split into lines\n",
    "def readLines(filename):\n",
    "    lines = open(filename, encoding='utf-8', errors='ignore').read().strip().split('\\n')\n",
    "    return [unicodeToAscii(line) for line in lines]\n",
    "\n",
    "# for filename in findFiles('data/names/*.txt'):\n",
    "#     category = os.path.splitext(os.path.basename(filename))[0]\n",
    "#     all_categories.append(category)\n",
    "#     lines = readLines(filename)\n",
    "#     category_lines[category] = lines\n",
    "\n",
    "# n_categories = len(all_categories)"
   ]
  },
  {
   "cell_type": "code",
   "execution_count": 196,
   "metadata": {},
   "outputs": [
    {
     "name": "stdout",
     "output_type": "stream",
     "text": [
      "train/pk.txt 3000\n",
      "train/in.txt 3000\n",
      "train/ir.txt 3000\n",
      "train/af.txt 3000\n",
      "train/za.txt 3000\n",
      "train/fr.txt 3000\n",
      "train/de.txt 3000\n",
      "train/cn.txt 3000\n",
      "train/fi.txt 3000\n",
      "n_categories=9 n_letters57\n",
      "dict_keys(['pk', 'in', 'ir', 'af', 'za', 'fr', 'de', 'cn', 'fi'])\n"
     ]
    }
   ],
   "source": [
    "global num_tot_train\n",
    "num_tot_train = 0\n",
    "for filename in findFiles('train/*.txt'):\n",
    "    category = filename.split('/')[-1].split('.')[0]\n",
    "    all_categories.append(category)\n",
    "    lines = readLines(filename)\n",
    "    num_tot_train += len(lines)\n",
    "    category_lines[category] = lines\n",
    "    print(filename,len(lines))\n",
    "\n",
    "n_categories = len(all_categories)\n",
    "\n",
    "category_lines_val = {}\n",
    "global num_tot_val\n",
    "num_tot_val = 0\n",
    "for filename in findFiles('val/*.txt'):\n",
    "    category = filename.split('/')[-1].split('.')[0]\n",
    "    lines = readLines(filename)\n",
    "    category_lines_val[category] = lines\n",
    "    num_tot_val += len(lines)\n",
    "\n",
    "print(f\"n_categories={n_categories} n_letters{n_letters}\")\n",
    "print(category_lines_val.keys())"
   ]
  },
  {
   "cell_type": "code",
   "execution_count": 197,
   "metadata": {},
   "outputs": [
    {
     "name": "stdout",
     "output_type": "stream",
     "text": [
      "['premery', 'boussonle bas', 'bois lessus', 'montignyauxamognes', 'benaud']\n"
     ]
    }
   ],
   "source": [
    "print(category_lines['fr'][:5])"
   ]
  },
  {
   "cell_type": "code",
   "execution_count": 198,
   "metadata": {},
   "outputs": [],
   "source": [
    "import random\n",
    "\n",
    "trainData = {}\n",
    "valData = {}\n",
    "for key in category_lines.keys():\n",
    "  random.shuffle(category_lines[key])\n",
    "  splitpoint = int(len(category_lines[key]) * 0.2)\n",
    "  valData[key] = category_lines[key][:splitpoint]\n",
    "  trainData[key] = category_lines[key][splitpoint:]"
   ]
  },
  {
   "cell_type": "code",
   "execution_count": 199,
   "metadata": {},
   "outputs": [],
   "source": [
    "import torch\n",
    "\n",
    "# Find letter index from all_letters, e.g. \"a\" = 0\n",
    "def letterToIndex(letter):\n",
    "    return all_letters.find(letter)\n",
    "\n",
    "# Just for demonstration, turn a letter into a <1 x n_letters> Tensor\n",
    "def letterToTensor(letter):\n",
    "    tensor = torch.zeros(1, n_letters)\n",
    "    tensor[0][letterToIndex(letter)] = 1\n",
    "    return tensor\n",
    "\n",
    "# Turn a line into a <line_length x 1 x n_letters>,\n",
    "# or an array of one-hot letter vectors\n",
    "def lineToTensor(line):\n",
    "    tensor = torch.zeros(len(line), 1, n_letters)\n",
    "    for li, letter in enumerate(line):\n",
    "        tensor[li][0][letterToIndex(letter)] = 1\n",
    "    return tensor\n",
    "\n",
    "# print(letterToTensor('J'))\n",
    "\n",
    "# print(lineToTensor('Jones').size())"
   ]
  },
  {
   "cell_type": "code",
   "execution_count": 200,
   "metadata": {},
   "outputs": [],
   "source": [
    "import torch.nn as nn\n",
    "\n",
    "class RNN(nn.Module):\n",
    "    def __init__(self, input_size, hidden_size, output_size):\n",
    "        super(RNN, self).__init__()\n",
    "\n",
    "        self.hidden_size = hidden_size\n",
    "\n",
    "        self.i2h = nn.Linear(input_size + hidden_size, hidden_size)\n",
    "        self.i2o = nn.Linear(input_size + hidden_size, output_size)\n",
    "        self.softmax = nn.LogSoftmax(dim=1)\n",
    "\n",
    "    def forward(self, input, hidden):\n",
    "        combined = torch.cat((input, hidden), 1)\n",
    "        hidden = self.i2h(combined)\n",
    "        output = self.i2o(combined)\n",
    "        output = self.softmax(output)\n",
    "        return output, hidden\n",
    "\n",
    "    def initHidden(self):\n",
    "        return torch.zeros(1, self.hidden_size)\n",
    "\n",
    "n_hidden = 128\n",
    "#n_hidden = 256\n",
    "rnn = RNN(n_letters, n_hidden, n_categories)"
   ]
  },
  {
   "cell_type": "code",
   "execution_count": 201,
   "metadata": {},
   "outputs": [],
   "source": [
    "# Gated recurrent units (GRU)\n",
    "\n",
    "class GRU(nn.Module):\n",
    "    def __init__(self, input_size, hidden_size, output_size):\n",
    "        super(GRU, self).__init__()\n",
    "\n",
    "        self.hidden_size = hidden_size\n",
    "\n",
    "        self.i2h = nn.GRUCell(input_size + hidden_size, hidden_size)\n",
    "        self.i2o = nn.Linear(input_size + hidden_size, output_size)\n",
    "        self.softmax = nn.LogSoftmax(dim=1)\n",
    "\n",
    "    def forward(self, input, hidden):\n",
    "        combined = torch.cat((input, hidden), 1)\n",
    "        hidden = self.i2h(combined)\n",
    "        output = self.i2o(combined)\n",
    "        output = self.softmax(output)\n",
    "        return output, hidden\n",
    "\n",
    "    def initHidden(self):\n",
    "        return torch.zeros(1, self.hidden_size)\n",
    "\n",
    "n_hidden = 128\n",
    "#n_hidden = 256\n",
    "gru = GRU(n_letters, n_hidden, n_categories)"
   ]
  },
  {
   "cell_type": "code",
   "execution_count": 202,
   "metadata": {},
   "outputs": [],
   "source": [
    "# Long short term memory units (LSTM)\n",
    "\n",
    "class LSTM(nn.Module):\n",
    "    def __init__(self, input_size, hidden_size, output_size):\n",
    "        super(LSTM, self).__init__()\n",
    "\n",
    "        self.hidden_size = hidden_size\n",
    "\n",
    "        self.i2h = nn.LSTMCell(input_size + hidden_size + hidden_size, hidden_size)\n",
    "        self.i2o = nn.Linear(input_size + hidden_size, output_size)\n",
    "        self.softmax = nn.LogSoftmax(dim=1)\n",
    "\n",
    "    def forward(self, input, hidden, cell):\n",
    "        combined_o = torch.cat((input, hidden), 1)\n",
    "        combined_hc = torch.cat((input, hidden, cell), 1)\n",
    "        hidden, cell = self.i2h(combined_hc)\n",
    "        output = self.i2o(combined_o)\n",
    "        output = self.softmax(output)\n",
    "        return output, hidden, cell\n",
    "\n",
    "    def initHidden(self):\n",
    "        return torch.zeros(1, self.hidden_size)\n",
    "      \n",
    "    def initCell(self):\n",
    "        return torch.zeros(1, self.hidden_size)\n",
    "\n",
    "n_hidden = 128\n",
    "#n_hidden = 256\n",
    "lstm = LSTM(n_letters, n_hidden, n_categories)"
   ]
  },
  {
   "cell_type": "code",
   "execution_count": 203,
   "metadata": {},
   "outputs": [],
   "source": [
    "input = letterToTensor('A')\n",
    "hidden = torch.zeros(1, n_hidden)\n",
    "cell = torch.zeros(1, n_hidden)\n",
    "output, next_hidden = rnn(input, hidden)"
   ]
  },
  {
   "cell_type": "code",
   "execution_count": 204,
   "metadata": {},
   "outputs": [
    {
     "name": "stdout",
     "output_type": "stream",
     "text": [
      "tensor([[-2.2367, -2.1009, -2.2214, -2.0997, -2.2068, -2.1382, -2.2574, -2.2482,\n",
      "         -2.2852]], grad_fn=<LogSoftmaxBackward>)\n"
     ]
    }
   ],
   "source": [
    "input = lineToTensor('Albert')\n",
    "hidden = torch.zeros(1, n_hidden)\n",
    "\n",
    "output, next_hidden = rnn(input[0], hidden)\n",
    "output, next_hidden = gru(input[0], hidden)\n",
    "output, next_hidden, next_cell = lstm(input[0], hidden, cell)\n",
    "print(output)"
   ]
  },
  {
   "cell_type": "code",
   "execution_count": 205,
   "metadata": {},
   "outputs": [
    {
     "name": "stdout",
     "output_type": "stream",
     "text": [
      "('af', 3)\n"
     ]
    }
   ],
   "source": [
    "def categoryFromOutput(output):\n",
    "    top_n, top_i = output.topk(1)\n",
    "    category_i = top_i[0].item()\n",
    "    return all_categories[category_i], category_i\n",
    "\n",
    "print(categoryFromOutput(output))"
   ]
  },
  {
   "cell_type": "code",
   "execution_count": 206,
   "metadata": {},
   "outputs": [
    {
     "name": "stdout",
     "output_type": "stream",
     "text": [
      "category = cn / line = xinanyangjia\n",
      "category = fi / line = harpfing\n",
      "category = fi / line = sunnanberg\n",
      "category = af / line = sangtaghak\n",
      "category = pk / line = goth ghazi pitaf\n",
      "category = de / line = canitzwasewitz\n",
      "category = za / line = nyalasa\n",
      "category = za / line = ahmadzai\n",
      "category = de / line = douar derouich\n",
      "category = pk / line = lachhariwala\n"
     ]
    }
   ],
   "source": [
    "import random\n",
    "\n",
    "def randomChoice(l):\n",
    "    return l[random.randint(0, len(l) - 1)]\n",
    "\n",
    "'''\n",
    "def randomTrainingExample():\n",
    "    category = randomChoice(all_categories)\n",
    "    line = randomChoice(category_lines[category])\n",
    "    category_tensor = torch.tensor([all_categories.index(category)], dtype=torch.long)\n",
    "    line_tensor = lineToTensor(line)\n",
    "    return category, line, category_tensor, line_tensor\n",
    "'''\n",
    "\n",
    "def randomTrainingExample():\n",
    "    category = randomChoice(all_categories)\n",
    "    line = randomChoice(category_lines[category])\n",
    "    category_tensor = torch.tensor([all_categories.index(category)], dtype=torch.long)\n",
    "    line_tensor = lineToTensor(line)\n",
    "    return category, line, category_tensor, line_tensor\n",
    "\n",
    "\n",
    "for i in range(10):\n",
    "    category, line, category_tensor, line_tensor = randomTrainingExample()\n",
    "    print('category =', category, '/ line =', line)\n",
    "    \n",
    "def randomTestExample():\n",
    "    category = randomChoice(all_categories)\n",
    "    line = randomChoice(category_lines_val[category])\n",
    "    category_tensor = torch.tensor([all_categories.index(category)], dtype=torch.long)\n",
    "    line_tensor = lineToTensor(line)\n",
    "    return category, line, category_tensor, line_tensor"
   ]
  },
  {
   "cell_type": "code",
   "execution_count": 207,
   "metadata": {},
   "outputs": [],
   "source": [
    "criterion = nn.NLLLoss()"
   ]
  },
  {
   "cell_type": "code",
   "execution_count": 208,
   "metadata": {},
   "outputs": [],
   "source": [
    "#learning_rate = 0.001\n",
    "learning_rate = 0.002 # If you set this too high, it might explode. If too low, it might not learn\n",
    "#learning_rate = 0.003\n",
    "def train(category_tensor, line_tensor):\n",
    "    hidden = rnn.initHidden()\n",
    "\n",
    "    rnn.zero_grad()\n",
    "\n",
    "    for i in range(line_tensor.size()[0]):\n",
    "        output, hidden = rnn(line_tensor[i], hidden)\n",
    "\n",
    "    loss = criterion(output, category_tensor)\n",
    "    loss.backward()\n",
    "\n",
    "    # Add parameters' gradients to their values, multiplied by learning rate\n",
    "    for p in rnn.parameters():\n",
    "        p.data.add_(p.grad.data, alpha=-learning_rate)\n",
    "\n",
    "    return output, loss.item()\n",
    "  \n",
    "def train_gru(category_tensor, line_tensor):\n",
    "    hidden = gru.initHidden()\n",
    "\n",
    "    gru.zero_grad()\n",
    "\n",
    "    for i in range(line_tensor.size()[0]):\n",
    "        output, hidden = gru(line_tensor[i], hidden)\n",
    "\n",
    "    loss = criterion(output, category_tensor)\n",
    "    loss.backward()\n",
    "\n",
    "    # Add parameters' gradients to their values, multiplied by learning rate\n",
    "    for p in gru.parameters():\n",
    "        p.data.add_(p.grad.data, alpha=-learning_rate)\n",
    "\n",
    "    return output, loss.item()\n",
    "  \n",
    "def train_lstm(category_tensor, line_tensor):\n",
    "    hidden = lstm.initHidden()\n",
    "    cell = lstm.initCell()\n",
    "\n",
    "    lstm.zero_grad()\n",
    "\n",
    "    for i in range(line_tensor.size()[0]):\n",
    "        output, hidden, cell = lstm(line_tensor[i], hidden, cell)\n",
    "\n",
    "    loss = criterion(output, category_tensor)\n",
    "    loss.backward()\n",
    "\n",
    "    # Add parameters' gradients to their values, multiplied by learning rate\n",
    "    for p in lstm.parameters():\n",
    "        p.data.add_(p.grad.data, alpha=-learning_rate)\n",
    "\n",
    "    return output, loss.item()\n",
    "\n",
    "def test(category_tensor, line_tensor):\n",
    "    hidden = rnn.initHidden()\n",
    "\n",
    "    for i in range(line_tensor.size()[0]):\n",
    "        output, hidden = rnn(line_tensor[i], hidden)\n",
    "        \n",
    "    loss = criterion(output, category_tensor)\n",
    "\n",
    "    return output, loss.item()\n",
    "  \n",
    "def test_gru(category_tensor, line_tensor):\n",
    "    hidden = gru.initHidden()\n",
    "\n",
    "    for i in range(line_tensor.size()[0]):\n",
    "        output, hidden = gru(line_tensor[i], hidden)\n",
    "        \n",
    "    loss = criterion(output, category_tensor)\n",
    "\n",
    "    return output, loss.item()\n",
    "  \n",
    "def test_lstm(category_tensor, line_tensor):\n",
    "    hidden = lstm.initHidden()\n",
    "    cell = lstm.initHidden()\n",
    "\n",
    "    for i in range(line_tensor.size()[0]):\n",
    "        output, hidde,cell = lstm(line_tensor[i], hidden, cell)\n",
    "\n",
    "    loss = criterion(output, category_tensor)\n",
    "\n",
    "    return output, loss.item()"
   ]
  },
  {
   "cell_type": "code",
   "execution_count": 209,
   "metadata": {},
   "outputs": [
    {
     "name": "stdout",
     "output_type": "stream",
     "text": [
      "5000 5% (0m 21s) 0.7934 chingalande / fr ✗ (de)\n",
      "10000 10% (0m 42s) 0.7588 san antonio de las alazanas / fr ✗ (za)\n",
      "15000 15% (1m 4s) 0.7382 balochpur / fr ✗ (pk)\n",
      "20000 20% (1m 25s) 0.7204 middelhede / de ✓\n",
      "25000 25% (1m 47s) 0.7028 sudzal / af ✗ (za)\n",
      "30000 30% (2m 8s) 0.6853 muling / in ✗ (cn)\n",
      "35000 35% (2m 30s) 0.6721 talochen / cn ✓\n",
      "40000 40% (2m 51s) 0.6593 tahiri / pk ✗ (ir)\n",
      "45000 45% (3m 13s) 0.6455 palocay / af ✓\n",
      "50000 50% (3m 34s) 0.6337 niederlamitz / de ✓\n",
      "55000 55% (3m 55s) 0.6240 kalaakhingar / ir ✗ (af)\n",
      "60000 60% (4m 17s) 0.6161 mir hamza kalay / af ✗ (ir)\n",
      "65000 65% (4m 39s) 0.6102 dilasa / fi ✗ (af)\n",
      "70000 70% (5m 0s) 0.6060 deretepe / de ✓\n",
      "75000 75% (5m 21s) 0.6008 bossey / fr ✓\n",
      "80000 80% (5m 43s) 0.5961 shahver / ir ✓\n",
      "85000 85% (6m 4s) 0.5906 rancho veinte de noviembre / de ✗ (in)\n",
      "90000 90% (6m 25s) 0.5877 qiduyoufu / cn ✓\n",
      "95000 95% (6m 46s) 0.5862 kafin wamba / fi ✗ (af)\n",
      "100000 100% (7m 8s) 0.5845 banlashanmen / de ✗ (cn)\n"
     ]
    }
   ],
   "source": [
    "import time\n",
    "import math\n",
    "\n",
    "n_iters = 100000\n",
    "#n_iters = 9*3000\n",
    "print_every = 5000\n",
    "plot_every = 1000\n",
    "\n",
    "\n",
    "\n",
    "# Keep track of losses for plotting\n",
    "current_loss = 0\n",
    "all_losses = []\n",
    "\n",
    "val_loss = 0\n",
    "val_losses = []\n",
    "\n",
    "def timeSince(since):\n",
    "    now = time.time()\n",
    "    s = now - since\n",
    "    m = math.floor(s / 60)\n",
    "    s -= m * 60\n",
    "    return '%dm %ds' % (m, s)\n",
    "\n",
    "start = time.time()\n",
    "num_err = 0\n",
    "for iter in range(1, n_iters + 1):\n",
    "    category, line, category_tensor, line_tensor = randomTrainingExample()\n",
    "    output, loss = train(category_tensor, line_tensor)\n",
    "    current_loss += loss\n",
    "    \n",
    "    category_test, line_test, category_tensor_test, line_tensor_test = randomTestExample()\n",
    "    _, loss2 = test(category_tensor_test, line_tensor_test)\n",
    "    val_loss += loss2\n",
    "    guess, guess_i = categoryFromOutput(output)\n",
    "    # Print iter number, loss, name and guess\n",
    "    if guess != category: num_err +=1\n",
    "    if iter % print_every == 0:\n",
    "        #guess, guess_i = categoryFromOutput(output)\n",
    "        correct = '✓' if guess == category else '✗ (%s)' % category\n",
    "        #print('%d %d%% (%s) %.4f %s / %s %s' % (iter, iter / n_iters * 100, timeSince(start), loss, line, guess, correct))\n",
    "        print('%d %d%% (%s) %.4f %s / %s %s' % (iter, iter / n_iters * 100, timeSince(start), num_err*1.0/iter, line, guess, correct))\n",
    "\n",
    "    # Add current loss avg to list of losses\n",
    "    if iter % plot_every == 0:\n",
    "        all_losses.append(current_loss / plot_every)\n",
    "        val_losses.append(val_loss / plot_every)\n",
    "        current_loss = 0\n",
    "        val_loss = 0"
   ]
  },
  {
   "cell_type": "code",
   "execution_count": 210,
   "metadata": {},
   "outputs": [
    {
     "name": "stdout",
     "output_type": "stream",
     "text": [
      "5000 5% (0m 48s) 0.8112 vigatpuri / fi ✗ (in)\n",
      "10000 10% (1m 36s) 0.7858 fray cayetano rodriguez / de ✗ (fr)\n",
      "15000 15% (2m 24s) 0.7652 wolfersgrun / cn ✗ (de)\n",
      "20000 20% (3m 12s) 0.7536 kabgan / cn ✗ (ir)\n",
      "25000 25% (4m 0s) 0.7437 anglus / fr ✓\n",
      "30000 30% (4m 48s) 0.7378 wola chruscinska / fi ✗ (in)\n",
      "35000 35% (5m 36s) 0.7309 minatei / fi ✗ (in)\n",
      "40000 40% (6m 24s) 0.7261 chalets de l'orcieyrette / fr ✓\n",
      "45000 45% (7m 12s) 0.7220 cheshmeh panbeh / de ✗ (ir)\n",
      "50000 50% (8m 1s) 0.7186 sinangou / cn ✓\n",
      "55000 55% (8m 48s) 0.7138 mohpadar / pk ✗ (in)\n",
      "60000 60% (9m 35s) 0.7091 chaijiagoucun / cn ✓\n",
      "65000 65% (10m 23s) 0.7045 dongwuweizi / fi ✗ (cn)\n",
      "70000 70% (11m 10s) 0.7003 qaleh sufi / fi ✓\n",
      "75000 75% (11m 58s) 0.6964 saintbarthelemylestra / fi ✗ (fr)\n",
      "80000 80% (12m 47s) 0.6915 zauchye / za ✓\n",
      "85000 85% (13m 35s) 0.6868 zanggezhuang / cn ✗ (za)\n",
      "90000 90% (14m 23s) 0.6811 sounting / cn ✗ (in)\n",
      "95000 95% (15m 10s) 0.6756 ribacka / fi ✓\n",
      "100000 100% (16m 0s) 0.6703 galafre / fr ✗ (af)\n"
     ]
    }
   ],
   "source": [
    "import time\n",
    "import math\n",
    "\n",
    "n_iters = 100000\n",
    "\n",
    "print_every = 5000\n",
    "plot_every = 1000\n",
    "\n",
    "\n",
    "\n",
    "# Keep track of losses for plotting\n",
    "current_loss_gru = 0\n",
    "all_losses_gru = []\n",
    "\n",
    "val_loss_gru = 0\n",
    "val_losses_gru = []\n",
    "\n",
    "def timeSince(since):\n",
    "    now = time.time()\n",
    "    s = now - since\n",
    "    m = math.floor(s / 60)\n",
    "    s -= m * 60\n",
    "    return '%dm %ds' % (m, s)\n",
    "\n",
    "start = time.time()\n",
    "num_err = 0\n",
    "for iter in range(1, n_iters + 1):\n",
    "    category, line, category_tensor, line_tensor = randomTrainingExample()\n",
    "    output, loss = train_gru(category_tensor, line_tensor)\n",
    "    current_loss_gru += loss\n",
    "    \n",
    "    category_test, line_test, category_tensor_test, line_tensor_test = randomTestExample()\n",
    "    _, loss2 = test_gru(category_tensor_test, line_tensor_test)\n",
    "    val_loss_gru += loss2\n",
    "    \n",
    "    guess, guess_i = categoryFromOutput(output)\n",
    "    # Print iter number, loss, name and guess\n",
    "    if guess != category: num_err +=1\n",
    "    # Print iter number, loss, name and guess\n",
    "    if iter % print_every == 0:\n",
    "        #guess, guess_i = categoryFromOutput(output)\n",
    "        correct = '✓' if guess == category else '✗ (%s)' % category\n",
    "        #print('%d %d%% (%s) %.4f %s / %s %s' % (iter, iter / n_iters * 100, timeSince(start), loss, line, guess, correct))\n",
    "        print('%d %d%% (%s) %.4f %s / %s %s' % (iter, iter / n_iters * 100, timeSince(start), num_err*1.0/iter, line, guess, correct))\n",
    "\n",
    "    # Add current loss avg to list of losses\n",
    "    if iter % plot_every == 0:\n",
    "        all_losses_gru.append(current_loss_gru / plot_every)\n",
    "        val_losses_gru.append(val_loss_gru / plot_every)\n",
    "        current_loss_gru = 0\n",
    "        val_loss_gru = 0"
   ]
  },
  {
   "cell_type": "code",
   "execution_count": 211,
   "metadata": {},
   "outputs": [
    {
     "name": "stdout",
     "output_type": "stream",
     "text": [
      "5000 5% (0m 54s) 0.8048 sarthal baungal / pk ✓\n",
      "10000 10% (1m 50s) 0.7775 la cirila / fi ✗ (ir)\n",
      "15000 15% (2m 44s) 0.7655 hirtel / de ✓\n",
      "20000 20% (3m 39s) 0.7566 eshnawah / af ✓\n",
      "25000 25% (4m 33s) 0.7533 einvilleaujard / ir ✗ (in)\n",
      "30000 30% (5m 27s) 0.7507 fengxi / pk ✗ (cn)\n",
      "35000 35% (6m 21s) 0.7477  manastirec  / fr ✗ (ir)\n",
      "40000 40% (7m 16s) 0.7450 binndaba bakou / cn ✗ (in)\n",
      "45000 45% (8m 11s) 0.7420 karam hezai / pk ✗ (za)\n",
      "50000 50% (9m 6s) 0.7400 tenafly / af ✓\n",
      "55000 55% (9m 59s) 0.7374 zarvijan / cn ✗ (za)\n",
      "60000 60% (10m 54s) 0.7362 fresnel'eguillon / cn ✗ (fr)\n",
      "65000 65% (11m 48s) 0.7352 hamsarawala / fi ✗ (pk)\n",
      "70000 70% (12m 41s) 0.7345 jagonas / fr ✓\n",
      "75000 75% (13m 35s) 0.7334 larroqueengalin / cn ✗ (in)\n",
      "80000 80% (14m 28s) 0.7322 goth muhammad isa / fi ✗ (pk)\n",
      "85000 85% (15m 23s) 0.7312 tongziling / cn ✗ (in)\n",
      "90000 90% (16m 19s) 0.7298 l'hospitaletdularzac / af ✗ (fr)\n",
      "95000 95% (17m 12s) 0.7282 chetaokou / cn ✓\n",
      "100000 100% (18m 6s) 0.7266 mir khun / cn ✗ (ir)\n"
     ]
    }
   ],
   "source": [
    "import time\n",
    "import math\n",
    "\n",
    "n_iters = 100000\n",
    "\n",
    "print_every = 5000\n",
    "plot_every = 1000\n",
    "\n",
    "\n",
    "\n",
    "# Keep track of losses for plotting\n",
    "current_loss_lstm = 0\n",
    "all_losses_lstm = []\n",
    "\n",
    "val_loss_lstm = 0\n",
    "val_losses_lstm = []\n",
    "\n",
    "def timeSince(since):\n",
    "    now = time.time()\n",
    "    s = now - since\n",
    "    m = math.floor(s / 60)\n",
    "    s -= m * 60\n",
    "    return '%dm %ds' % (m, s)\n",
    "\n",
    "start = time.time()\n",
    "num_err = 0\n",
    "for iter in range(1, n_iters + 1):\n",
    "    category, line, category_tensor, line_tensor = randomTrainingExample()\n",
    "    output, loss = train_lstm(category_tensor, line_tensor)\n",
    "    current_loss_lstm += loss\n",
    "    \n",
    "    category_test, line_test, category_tensor_test, line_tensor_test = randomTestExample()\n",
    "    _, loss2 = test_lstm(category_tensor_test, line_tensor_test)\n",
    "    val_loss_lstm += loss2\n",
    "    \n",
    "    guess, guess_i = categoryFromOutput(output)\n",
    "    # Print iter number, loss, name and guess\n",
    "    if guess != category: num_err +=1\n",
    "\n",
    "    # Print iter number, loss, name and guess\n",
    "    if iter % print_every == 0:\n",
    "        #guess, guess_i = categoryFromOutput(output)\n",
    "        correct = '✓' if guess == category else '✗ (%s)' % category\n",
    "        #print('%d %d%% (%s) %.4f %s / %s %s' % (iter, iter / n_iters * 100, timeSince(start), loss, line, guess, correct))\n",
    "        print('%d %d%% (%s) %.4f %s / %s %s' % (iter, iter / n_iters * 100, timeSince(start), num_err*1.0/iter, line, guess, correct))\n",
    "\n",
    "    # Add current loss avg to list of losses\n",
    "    if iter % plot_every == 0:\n",
    "        all_losses_lstm.append(current_loss_lstm / plot_every)\n",
    "        val_losses_lstm.append(val_loss_lstm / plot_every)\n",
    "        current_loss_lstm = 0\n",
    "        val_loss_lstm = 0"
   ]
  },
  {
   "cell_type": "code",
   "execution_count": 212,
   "metadata": {},
   "outputs": [
    {
     "data": {
      "text/plain": [
       "<matplotlib.legend.Legend at 0x7f4e9c5fa7c0>"
      ]
     },
     "execution_count": 212,
     "metadata": {},
     "output_type": "execute_result"
    },
    {
     "data": {
      "image/png": "[encoded data removed]",
      "text/plain": [
       "<Figure size 432x288 with 1 Axes>"
      ]
     },
     "metadata": {
      "needs_background": "light"
     },
     "output_type": "display_data"
    }
   ],
   "source": [
    "import matplotlib.pyplot as plt\n",
    "import matplotlib.ticker as ticker\n",
    "\n",
    "plt.figure()\n",
    "plt.plot(all_losses, label='allLoss')\n",
    "plt.plot(val_losses, label='valLoss')\n",
    "plt.legend()"
   ]
  },
  {
   "cell_type": "code",
   "execution_count": 213,
   "metadata": {},
   "outputs": [
    {
     "name": "stdout",
     "output_type": "stream",
     "text": [
      "Final validation loss for RNN is: 1.679882\n"
     ]
    }
   ],
   "source": [
    "print(\"Final validation loss for RNN is: %f\" % val_losses[-1])"
   ]
  },
  {
   "cell_type": "code",
   "execution_count": 214,
   "metadata": {},
   "outputs": [
    {
     "data": {
      "text/plain": [
       "<matplotlib.legend.Legend at 0x7f4e9c78b760>"
      ]
     },
     "execution_count": 214,
     "metadata": {},
     "output_type": "execute_result"
    },
    {
     "data": {
      "image/png": "[encoded data removed]",
      "text/plain": [
       "<Figure size 432x288 with 1 Axes>"
      ]
     },
     "metadata": {
      "needs_background": "light"
     },
     "output_type": "display_data"
    }
   ],
   "source": [
    "plt.figure()\n",
    "plt.plot(all_losses_gru, label='gurLoss')\n",
    "plt.plot(val_losses_gru, label='valGURLoss')\n",
    "plt.legend()"
   ]
  },
  {
   "cell_type": "code",
   "execution_count": 215,
   "metadata": {},
   "outputs": [
    {
     "name": "stdout",
     "output_type": "stream",
     "text": [
      "Final validation loss for GRU is: 1.626604\n"
     ]
    }
   ],
   "source": [
    "print(\"Final validation loss for GRU is: %f\" % val_losses_gru[-1])"
   ]
  },
  {
   "cell_type": "code",
   "execution_count": 216,
   "metadata": {},
   "outputs": [
    {
     "data": {
      "text/plain": [
       "<matplotlib.legend.Legend at 0x7f4e9c732d60>"
      ]
     },
     "execution_count": 216,
     "metadata": {},
     "output_type": "execute_result"
    },
    {
     "data": {
      "image/png": "[encoded data removed]",
      "text/plain": [
       "<Figure size 432x288 with 1 Axes>"
      ]
     },
     "metadata": {
      "needs_background": "light"
     },
     "output_type": "display_data"
    }
   ],
   "source": [
    "plt.figure()\n",
    "plt.plot(all_losses_lstm, label='lstmLoss')\n",
    "plt.plot(val_losses_lstm, label='valLSTMLoss')\n",
    "plt.legend()"
   ]
  },
  {
   "cell_type": "code",
   "execution_count": 217,
   "metadata": {},
   "outputs": [
    {
     "name": "stdout",
     "output_type": "stream",
     "text": [
      "Final validation loss for LSTM is: 2.016303\n"
     ]
    }
   ],
   "source": [
    "print(\"Final validation loss for LSTM is: %f\" % val_losses_lstm[-1])"
   ]
  },
  {
   "cell_type": "code",
   "execution_count": 218,
   "metadata": {},
   "outputs": [
    {
     "data": {
      "text/plain": [
       "<matplotlib.legend.Legend at 0x7f4e9c76dd00>"
      ]
     },
     "execution_count": 218,
     "metadata": {},
     "output_type": "execute_result"
    },
    {
     "data": {
      "image/png": "[encoded data removed]",
      "text/plain": [
       "<Figure size 432x288 with 1 Axes>"
      ]
     },
     "metadata": {
      "needs_background": "light"
     },
     "output_type": "display_data"
    }
   ],
   "source": [
    "plt.figure()\n",
    "plt.title('validation loss')\n",
    "plt.plot(val_losses, label='RNN')\n",
    "plt.plot(val_losses_gru, label='GRU')\n",
    "plt.plot(val_losses_lstm, label='LSTM')\n",
    "plt.xlabel(\"# of thousands of iterations\")\n",
    "plt.ylabel(\"validation negative log likelihood\")\n",
    "plt.legend()"
   ]
  },
  {
   "cell_type": "code",
   "execution_count": 219,
   "metadata": {},
   "outputs": [
    {
     "name": "stderr",
     "output_type": "stream",
     "text": [
      "<ipython-input-219-a5b341ffc3a3>:33: UserWarning: FixedFormatter should only be used together with FixedLocator\n",
      "  ax.set_xticklabels([''] + all_categories, rotation=90)\n",
      "<ipython-input-219-a5b341ffc3a3>:34: UserWarning: FixedFormatter should only be used together with FixedLocator\n",
      "  ax.set_yticklabels([''] + all_categories)\n"
     ]
    },
    {
     "data": {
      "image/png": "[encoded data removed]",
      "text/plain": [
       "<Figure size 432x288 with 2 Axes>"
      ]
     },
     "metadata": {
      "needs_background": "light"
     },
     "output_type": "display_data"
    }
   ],
   "source": [
    "# Keep track of correct guesses in a confusion matrix\n",
    "confusion = torch.zeros(n_categories, n_categories)\n",
    "n_confusion = 10000\n",
    "\n",
    "# Just return an output given a line\n",
    "def evaluate(line_tensor):\n",
    "    hidden = rnn.initHidden()\n",
    "\n",
    "    for i in range(line_tensor.size()[0]):\n",
    "        output, hidden = rnn(line_tensor[i], hidden)\n",
    "\n",
    "    return output\n",
    "\n",
    "# Go through a bunch of examples and record which are correctly guessed\n",
    "for i in range(n_confusion):\n",
    "    category, line, category_tensor, line_tensor = randomTrainingExample()\n",
    "    output = evaluate(line_tensor)\n",
    "    guess, guess_i = categoryFromOutput(output)\n",
    "    category_i = all_categories.index(category)\n",
    "    confusion[category_i][guess_i] += 1\n",
    "\n",
    "# Normalize by dividing every row by its sum\n",
    "for i in range(n_categories):\n",
    "    confusion[i] = confusion[i] / confusion[i].sum()\n",
    "\n",
    "# Set up plot\n",
    "fig = plt.figure()\n",
    "ax = fig.add_subplot(111)\n",
    "cax = ax.matshow(confusion.numpy())\n",
    "fig.colorbar(cax)\n",
    "\n",
    "# Set up axes\n",
    "ax.set_xticklabels([''] + all_categories, rotation=90)\n",
    "ax.set_yticklabels([''] + all_categories)\n",
    "\n",
    "# Force label at every tick\n",
    "ax.xaxis.set_major_locator(ticker.MultipleLocator(1))\n",
    "ax.yaxis.set_major_locator(ticker.MultipleLocator(1))\n",
    "\n",
    "# sphinx_gallery_thumbnail_number = 2\n",
    "plt.show()"
   ]
  },
  {
   "cell_type": "code",
   "execution_count": 220,
   "metadata": {},
   "outputs": [
    {
     "name": "stdout",
     "output_type": "stream",
     "text": [
      "\n",
      "> Dovesky\n",
      "(-1.42) fr\n",
      "(-1.62) za\n",
      "(-1.67) de\n",
      "\n",
      "> Jackson\n",
      "(-1.49) de\n",
      "(-2.10) in\n",
      "(-2.15) cn\n",
      "\n",
      "> Satoshi\n",
      "(-1.18) cn\n",
      "(-1.98) fi\n",
      "(-2.12) ir\n"
     ]
    }
   ],
   "source": [
    "def predict(input_line, n_predictions=3):\n",
    "    print('\\n> %s' % input_line)\n",
    "    with torch.no_grad():\n",
    "        output = evaluate(lineToTensor(input_line))\n",
    "\n",
    "        # Get top N categories\n",
    "        topv, topi = output.topk(n_predictions, 1, True)\n",
    "        predictions = []\n",
    "\n",
    "        for i in range(n_predictions):\n",
    "            value = topv[0][i].item()\n",
    "            category_index = topi[0][i].item()\n",
    "            print('(%.2f) %s' % (value, all_categories[category_index]))\n",
    "            predictions.append([value, all_categories[category_index]])\n",
    "\n",
    "predict('Dovesky')\n",
    "predict('Jackson')\n",
    "predict('Satoshi')"
   ]
  }
 ],
 "metadata": {
  "kernelspec": {
   "display_name": "Python 3",
   "language": "python",
   "name": "python3"
  },
  "language_info": {
   "codemirror_mode": {
    "name": "ipython",
    "version": 3
   },
   "file_extension": ".py",
   "mimetype": "text/x-python",
   "name": "python",
   "nbconvert_exporter": "python",
   "pygments_lexer": "ipython3",
   "version": "3.8.5"
  }
 },
 "nbformat": 4,
 "nbformat_minor": 4
}
